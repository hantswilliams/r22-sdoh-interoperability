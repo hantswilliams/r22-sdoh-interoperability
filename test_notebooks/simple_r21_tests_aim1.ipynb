{
  "nbformat": 4,
  "nbformat_minor": 0,
  "metadata": {
    "colab": {
      "provenance": [],
      "authorship_tag": "ABX9TyMqecTAZ0aYCgbJ0VO00+XW",
      "include_colab_link": true
    },
    "kernelspec": {
      "name": "python3",
      "display_name": "Python 3"
    },
    "language_info": {
      "name": "python"
    }
  },
  "cells": [
    {
      "cell_type": "markdown",
      "metadata": {
        "id": "view-in-github",
        "colab_type": "text"
      },
      "source": [
        "<a href=\"https://colab.research.google.com/github/hantswilliams/r22-sdoh-interoperability/blob/main/test_notebooks/simple_r21_tests_aim1.ipynb\" target=\"_parent\"><img src=\"https://colab.research.google.com/assets/colab-badge.svg\" alt=\"Open In Colab\"/></a>"
      ]
    },
    {
      "cell_type": "code",
      "execution_count": 3,
      "metadata": {
        "id": "s_9FkncqGE5K"
      },
      "outputs": [],
      "source": [
        "import re\n",
        "import json\n",
        "\n",
        "## Tokenizing\n",
        "import nltk\n",
        "from nltk.corpus import stopwords\n",
        "from nltk.tokenize import word_tokenize\n",
        "\n",
        "## TF-IDF\n",
        "from sklearn.feature_extraction.text import TfidfVectorizer\n",
        "\n",
        "## word embeddings\n",
        "import gensim\n",
        "from gensim.models import Word2Vec\n",
        "\n",
        "## cosine\n",
        "from scipy.spatial.distance import cosine\n"
      ]
    },
    {
      "cell_type": "code",
      "source": [
        "# Download stopwords if not available\n",
        "nltk.download('stopwords')\n",
        "nltk.download('punkt')\n",
        "\n",
        "stop_words = set(stopwords.words('english'))"
      ],
      "metadata": {
        "colab": {
          "base_uri": "https://localhost:8080/"
        },
        "id": "fTbf-so3GIK6",
        "outputId": "caf5097a-a38e-4d1e-8e56-811f633cf4af"
      },
      "execution_count": 4,
      "outputs": [
        {
          "output_type": "stream",
          "name": "stderr",
          "text": [
            "[nltk_data] Downloading package stopwords to /root/nltk_data...\n",
            "[nltk_data]   Unzipping corpora/stopwords.zip.\n",
            "[nltk_data] Downloading package punkt to /root/nltk_data...\n",
            "[nltk_data]   Unzipping tokenizers/punkt.zip.\n"
          ]
        }
      ]
    },
    {
      "cell_type": "code",
      "source": [
        "reference_list = [\n",
        "    \"Limited access to nutrition supplies (finding)\",\n",
        "    \"Noncompliance with dietary regimen (finding)\",\n",
        "    \"Nutrition impaired due to limited access to healthful foods (finding)\",\n",
        "    \"Mild food insecurity on United States household food security survey module (finding)\",\n",
        "    \"Moderate food insecurity on United States household food security survey module (finding)\",\n",
        "    # ... (other descriptions)\n",
        "    \"Caregiver's noncompliance with patient's dietary regimen due to financial hardship\"\n",
        "]"
      ],
      "metadata": {
        "id": "UAt4v-19GKsY"
      },
      "execution_count": 5,
      "outputs": []
    },
    {
      "cell_type": "code",
      "source": [
        "# Tokenizing and filtering stopwords\n",
        "all_tokens = []\n",
        "for description in reference_list:\n",
        "    tokens = word_tokenize(description)\n",
        "    filtered_tokens = [word.lower() for word in tokens if word.lower() not in stop_words]\n",
        "    all_tokens.append(' '.join(filtered_tokens))\n",
        "\n",
        "# Computing TF-IDF values\n",
        "vectorizer = TfidfVectorizer()\n",
        "tfidf_matrix = vectorizer.fit_transform(all_tokens)\n",
        "feature_names = vectorizer.get_feature_names_out()\n",
        "tfidf_values = tfidf_matrix.sum(axis=0).tolist()[0]\n",
        "tfidf_dict = dict(zip(feature_names, tfidf_values))\n",
        "\n",
        "print(tfidf_dict)  # This dictionary contains keywords with their respective TF-IDF values"
      ],
      "metadata": {
        "colab": {
          "base_uri": "https://localhost:8080/"
        },
        "id": "v9kYK4mQHhXj",
        "outputId": "d6fc1aa9-05d3-41dd-f988-b19113b1fb4c"
      },
      "execution_count": 6,
      "outputs": [
        {
          "output_type": "stream",
          "name": "stdout",
          "text": [
            "{'access': 0.7889062102134055, 'caregiver': 0.3866311833916044, 'dietary': 0.8601407295599457, 'due': 0.6531548345643936, 'financial': 0.3866311833916044, 'finding': 1.180415192099782, 'food': 1.114664374721447, 'foods': 0.40988520714433785, 'hardship': 0.3866311833916044, 'healthful': 0.40988520714433785, 'household': 0.5573321873607235, 'impaired': 0.40988520714433785, 'insecurity': 0.5573321873607235, 'limited': 0.7889062102134055, 'mild': 0.33983077113876825, 'moderate': 0.3398307711387683, 'module': 0.5573321873607235, 'noncompliance': 0.8601407295599457, 'nutrition': 0.7889062102134055, 'patient': 0.3866311833916044, 'regimen': 0.8601407295599457, 'security': 0.5573321873607235, 'states': 0.5573321873607235, 'supplies': 0.5521787534625713, 'survey': 0.5573321873607235, 'united': 0.5573321873607235}\n"
          ]
        }
      ]
    },
    {
      "cell_type": "code",
      "source": [
        "keywords = set()\n",
        "for description in reference_list:\n",
        "    tokens = word_tokenize(description)\n",
        "    filtered_tokens = [word.lower() for word in tokens if word.lower() not in stop_words]\n",
        "    keywords.update(filtered_tokens)\n",
        "print(keywords)"
      ],
      "metadata": {
        "colab": {
          "base_uri": "https://localhost:8080/"
        },
        "id": "UJ7-QF-TGMbk",
        "outputId": "01d03528-69d4-4f3d-938c-31dce17a8621"
      },
      "execution_count": 7,
      "outputs": [
        {
          "output_type": "stream",
          "name": "stdout",
          "text": [
            "{'due', 'financial', 'finding', 'healthful', 'regimen', 'household', 'survey', 'module', 'foods', 'hardship', 'supplies', \"'s\", ')', 'patient', 'access', 'caregiver', 'insecurity', 'noncompliance', 'states', 'security', 'mild', 'food', '(', 'limited', 'dietary', 'moderate', 'impaired', 'nutrition', 'united'}\n"
          ]
        }
      ]
    },
    {
      "cell_type": "code",
      "source": [
        "# Filtering keywords based on the TF-IDF threshold\n",
        "threshold = 0.5\n",
        "keywords = {key for key, value in tfidf_dict.items() if value > threshold}\n",
        "print(keywords)"
      ],
      "metadata": {
        "colab": {
          "base_uri": "https://localhost:8080/"
        },
        "id": "RZET3M4VGQIi",
        "outputId": "f05c138a-40c0-4682-d7d5-500804178da6"
      },
      "execution_count": 8,
      "outputs": [
        {
          "output_type": "stream",
          "name": "stdout",
          "text": [
            "{'united', 'insecurity', 'due', 'limited', 'noncompliance', 'finding', 'dietary', 'household', 'regimen', 'security', 'states', 'supplies', 'survey', 'food', 'module', 'nutrition', 'access'}\n"
          ]
        }
      ]
    },
    {
      "cell_type": "code",
      "source": [
        "# Step 2: Metadata Parsing\n",
        "metadata = \"\"\"[\n",
        "    {\n",
        "        \"accessLevel\": \"public\",\n",
        "        \"landingPage\": \"https://healthdata.gov/d/229f-a34m\",\n",
        "        \"issued\": \"2023-02-22\",\n",
        "        \"@type\": \"dcat:Dataset\",\n",
        "        \"modified\": \"2023-02-22\",\n",
        "        \"contactPoint\": {\n",
        "            \"@type\": \"vcard:Contact\",\n",
        "            \"fn\": \"HHS Office of the Chief Data Officer\",\n",
        "            \"hasEmail\": \"mailto:no-reply@healthdata.gov\"\n",
        "        },\n",
        "        \"identifier\": \"https://healthdata.gov/api/views/229f-a34m\",\n",
        "        \"publisher\": {\n",
        "            \"@type\": \"org:Organization\",\n",
        "            \"name\": \"healthdata.gov\"\n",
        "        },\n",
        "        \"description\": \"\",\n",
        "        \"title\": \"Access to Care (2023)\"\n",
        "    },\n",
        "    {\n",
        "        \"accessLevel\": \"public\",\n",
        "        \"landingPage\": \"https://healthdata.gov/d/238m-ezg9\",\n",
        "        \"bureauCode\": [\"009:00\"],\n",
        "        \"issued\": \"2021-10-14\",\n",
        "        \"@type\": \"dcat:Dataset\",\n",
        "        \"modified\": \"2021-10-13\",\n",
        "        \"keyword\": [\"drug rebate program\"],\n",
        "        \"contactPoint\": {\n",
        "            \"@type\": \"vcard:Contact\",\n",
        "            \"fn\": \"Medicaid.gov\",\n",
        "            \"hasEmail\": \"mailto:Medicaid.gov@cms.hhs.gov\"\n",
        "        },\n",
        "        \"publisher\": {\n",
        "            \"@type\": \"org:Organization\",\n",
        "            \"name\": \"Centers for Medicare & Medicaid Services\"\n",
        "        },\n",
        "        \"identifier\": \"e28727b2-fe6b-46cb-8617-408de290200d\",\n",
        "        \"description\": \"The data below contains newly reported, active covered outpatient drugs which were reported by participating drug manufacturers since the last quarterly update of the Drug Products in the Medicaid Drug Rebate Program (MDRP) database.\",\n",
        "        \"title\": \"Product Data for Newly Reported Drugs in the Medicaid Drug Rebate Program 20210726 to 20210801\",\n",
        "        \"programCode\": [\"009:000\"],\n",
        "        \"distribution\": [{\n",
        "            \"@type\": \"dcat:Distribution\",\n",
        "            \"downloadURL\": \"https://data.medicaid.gov/sites/default/files/uploaded_resources/mdrp-newly-rpt-drugs-aug-20210726-to-20210801.csv\",\n",
        "            \"mediaType\": \"text/csv\"\n",
        "        }],\n",
        "        \"license\": \"http://www.usa.gov/publicdomain/label/1.0/\",\n",
        "        \"accrualPeriodicity\": \"R/P10Y\"\n",
        "    }\n",
        "]\"\"\"\n",
        "\n",
        "metadata_data = json.loads(metadata)"
      ],
      "metadata": {
        "id": "QZA-I1S4MmVl"
      },
      "execution_count": 11,
      "outputs": []
    },
    {
      "cell_type": "code",
      "source": [
        "def check_keywords_in_metadata(metadata_entry, keywords):\n",
        "    text_to_check = metadata_entry.get(\"description\", \"\") + \" \" + metadata_entry.get(\"title\", \"\")\n",
        "    for keyword in keywords:\n",
        "        if keyword in text_to_check.lower():\n",
        "            return keyword\n",
        "    return None\n"
      ],
      "metadata": {
        "id": "B_gqhuaxPcpn"
      },
      "execution_count": 13,
      "outputs": []
    },
    {
      "cell_type": "code",
      "source": [
        "# Checking each metadata entry\n",
        "for entry in metadata_data:\n",
        "    matched_keyword = check_keywords_in_metadata(entry, keywords)\n",
        "    if matched_keyword:\n",
        "        print(f\"Found a potential match in: {entry['title']} for keyword: {matched_keyword}\")"
      ],
      "metadata": {
        "id": "VMgLx7zuPhte",
        "colab": {
          "base_uri": "https://localhost:8080/"
        },
        "outputId": "58d6bb8a-6b3e-4d7e-ddd5-9a50304f176d"
      },
      "execution_count": 14,
      "outputs": [
        {
          "output_type": "stream",
          "name": "stdout",
          "text": [
            "Found a potential match in: Access to Care (2023) for keyword: access\n"
          ]
        }
      ]
    },
    {
      "cell_type": "code",
      "source": [],
      "metadata": {
        "id": "QWVXVYLyPl1r"
      },
      "execution_count": null,
      "outputs": []
    }
  ]
}