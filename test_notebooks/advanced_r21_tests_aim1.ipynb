{
  "nbformat": 4,
  "nbformat_minor": 0,
  "metadata": {
    "colab": {
      "provenance": [],
      "authorship_tag": "ABX9TyOxfW2HWXRUvQI5kOdPsWMg",
      "include_colab_link": true
    },
    "kernelspec": {
      "name": "python3",
      "display_name": "Python 3"
    },
    "language_info": {
      "name": "python"
    }
  },
  "cells": [
    {
      "cell_type": "markdown",
      "metadata": {
        "id": "view-in-github",
        "colab_type": "text"
      },
      "source": [
        "<a href=\"https://colab.research.google.com/github/hantswilliams/r22-sdoh-interoperability/blob/main/test_notebooks/advanced_r21_tests_aim1.ipynb\" target=\"_parent\"><img src=\"https://colab.research.google.com/assets/colab-badge.svg\" alt=\"Open In Colab\"/></a>"
      ]
    },
    {
      "cell_type": "code",
      "execution_count": 47,
      "metadata": {
        "id": "s_9FkncqGE5K"
      },
      "outputs": [],
      "source": [
        "import re\n",
        "import json\n",
        "import numpy as np\n",
        "\n",
        "## Tokenizing\n",
        "import nltk\n",
        "from nltk.corpus import stopwords\n",
        "from nltk.tokenize import word_tokenize\n",
        "\n",
        "## TF-IDF\n",
        "from sklearn.feature_extraction.text import TfidfVectorizer\n",
        "\n",
        "## word embeddings\n",
        "import gensim\n",
        "from gensim.models import Word2Vec\n",
        "from gensim import models\n",
        "\n",
        "## cosine\n",
        "from scipy.spatial.distance import cosine\n"
      ]
    },
    {
      "cell_type": "code",
      "source": [
        "# Download stopwords if not available\n",
        "nltk.download('stopwords')\n",
        "nltk.download('punkt')\n",
        "\n",
        "stop_words = set(stopwords.words('english'))"
      ],
      "metadata": {
        "colab": {
          "base_uri": "https://localhost:8080/"
        },
        "id": "fTbf-so3GIK6",
        "outputId": "b6100d1f-d8c1-476a-d009-e564320cb315"
      },
      "execution_count": 2,
      "outputs": [
        {
          "output_type": "stream",
          "name": "stderr",
          "text": [
            "[nltk_data] Downloading package stopwords to /root/nltk_data...\n",
            "[nltk_data]   Unzipping corpora/stopwords.zip.\n",
            "[nltk_data] Downloading package punkt to /root/nltk_data...\n",
            "[nltk_data]   Unzipping tokenizers/punkt.zip.\n"
          ]
        }
      ]
    },
    {
      "cell_type": "code",
      "source": [
        "reference_list = [\n",
        "    \"Limited access to nutrition supplies (finding)\",\n",
        "    \"Noncompliance with dietary regimen (finding)\",\n",
        "    \"Nutrition impaired due to limited access to healthful foods (finding)\",\n",
        "    \"Mild food insecurity on United States household food security survey module (finding)\",\n",
        "    \"Moderate food insecurity on United States household food security survey module (finding)\",\n",
        "    # ... (other descriptions)\n",
        "    \"Caregiver's noncompliance with patient's dietary regimen due to financial hardship\"\n",
        "]"
      ],
      "metadata": {
        "id": "UAt4v-19GKsY"
      },
      "execution_count": 3,
      "outputs": []
    },
    {
      "cell_type": "code",
      "source": [
        "# Tokenizing and filtering stopwords\n",
        "all_tokens = []\n",
        "for description in reference_list:\n",
        "    tokens = word_tokenize(description)\n",
        "    filtered_tokens = [word.lower() for word in tokens if word.lower() not in stop_words]\n",
        "    all_tokens.append(' '.join(filtered_tokens))\n",
        "\n",
        "# Computing TF-IDF values\n",
        "vectorizer = TfidfVectorizer()\n",
        "tfidf_matrix = vectorizer.fit_transform(all_tokens)\n",
        "feature_names = vectorizer.get_feature_names_out()\n",
        "tfidf_values = tfidf_matrix.sum(axis=0).tolist()[0]\n",
        "tfidf_dict = dict(zip(feature_names, tfidf_values))\n",
        "\n",
        "print(tfidf_dict)  # This dictionary contains keywords with their respective TF-IDF values"
      ],
      "metadata": {
        "colab": {
          "base_uri": "https://localhost:8080/"
        },
        "id": "v9kYK4mQHhXj",
        "outputId": "a1e1e60b-2486-4b31-9000-5676eb0283de"
      },
      "execution_count": 6,
      "outputs": [
        {
          "output_type": "stream",
          "name": "stdout",
          "text": [
            "{'access': 0.7889062102134055, 'caregiver': 0.3866311833916044, 'dietary': 0.8601407295599457, 'due': 0.6531548345643936, 'financial': 0.3866311833916044, 'finding': 1.180415192099782, 'food': 1.114664374721447, 'foods': 0.40988520714433785, 'hardship': 0.3866311833916044, 'healthful': 0.40988520714433785, 'household': 0.5573321873607235, 'impaired': 0.40988520714433785, 'insecurity': 0.5573321873607235, 'limited': 0.7889062102134055, 'mild': 0.33983077113876825, 'moderate': 0.3398307711387683, 'module': 0.5573321873607235, 'noncompliance': 0.8601407295599457, 'nutrition': 0.7889062102134055, 'patient': 0.3866311833916044, 'regimen': 0.8601407295599457, 'security': 0.5573321873607235, 'states': 0.5573321873607235, 'supplies': 0.5521787534625713, 'survey': 0.5573321873607235, 'united': 0.5573321873607235}\n"
          ]
        }
      ]
    },
    {
      "cell_type": "code",
      "source": [
        "keywords = set()\n",
        "for description in reference_list:\n",
        "    tokens = word_tokenize(description)\n",
        "    filtered_tokens = [word.lower() for word in tokens if word.lower() not in stop_words]\n",
        "    keywords.update(filtered_tokens)\n",
        "print(keywords)"
      ],
      "metadata": {
        "colab": {
          "base_uri": "https://localhost:8080/"
        },
        "id": "UJ7-QF-TGMbk",
        "outputId": "64866d13-8e27-4b0b-fac5-32b5ed5d6ff0"
      },
      "execution_count": 4,
      "outputs": [
        {
          "output_type": "stream",
          "name": "stdout",
          "text": [
            "{'access', 'module', ')', 'due', 'patient', 'food', 'noncompliance', 'moderate', \"'s\", 'healthful', 'united', 'states', 'nutrition', 'caregiver', 'regimen', '(', 'survey', 'security', 'financial', 'insecurity', 'finding', 'dietary', 'hardship', 'limited', 'mild', 'impaired', 'foods', 'supplies', 'household'}\n"
          ]
        }
      ]
    },
    {
      "cell_type": "code",
      "source": [
        "# Filtering keywords based on the TF-IDF threshold\n",
        "threshold = 0.5\n",
        "keywords = {key for key, value in tfidf_dict.items() if value > threshold}\n",
        "print(keywords)"
      ],
      "metadata": {
        "colab": {
          "base_uri": "https://localhost:8080/"
        },
        "id": "RZET3M4VGQIi",
        "outputId": "01331657-1ef9-4e15-e5fe-09833d33533c"
      },
      "execution_count": 8,
      "outputs": [
        {
          "output_type": "stream",
          "name": "stdout",
          "text": [
            "{'united', 'access', 'module', 'states', 'insecurity', 'finding', 'due', 'nutrition', 'dietary', 'food', 'regimen', 'limited', 'supplies', 'survey', 'noncompliance', 'household', 'security'}\n"
          ]
        }
      ]
    },
    {
      "cell_type": "code",
      "source": [
        "## connect to pre-trained model\n",
        "\n",
        "from google.colab import drive\n",
        "drive.mount('/content/drive')\n"
      ],
      "metadata": {
        "colab": {
          "base_uri": "https://localhost:8080/"
        },
        "id": "3Ke4uG8DX_7Z",
        "outputId": "75223f7a-f239-4ff9-e743-e10b9cddc3ef"
      },
      "execution_count": 25,
      "outputs": [
        {
          "output_type": "stream",
          "name": "stdout",
          "text": [
            "Mounted at /content/drive\n"
          ]
        }
      ]
    },
    {
      "cell_type": "code",
      "source": [
        "# # unzip model, only need to do this once\n",
        "# # /content/drive/MyDrive/embeddings_model/GoogleNews-vectors-negative300.bin.gz\n",
        "# !gunzip '/content/drive/MyDrive/embeddings_model/GoogleNews-vectors-negative300.bin.gz'\n"
      ],
      "metadata": {
        "colab": {
          "base_uri": "https://localhost:8080/"
        },
        "id": "gtqdYNyVYOLx",
        "outputId": "4664dda1-1cf7-42ff-a845-f3c0538e481c"
      },
      "execution_count": 27,
      "outputs": [
        {
          "output_type": "stream",
          "name": "stdout",
          "text": [
            "gzip: /content/drive/MyDrive/embeddings_model/GoogleNews-vectors-negative300.bin.gz: No such file or directory\n"
          ]
        }
      ]
    },
    {
      "cell_type": "code",
      "source": [
        "# Assuming you have loaded a Word2Vec model (you can train or load a pre-trained one)\n",
        "from gensim import models\n",
        "model = models.KeyedVectors.load_word2vec_format(\n",
        "    \"/content/drive/MyDrive/embeddings_model/GoogleNews-vectors-negative300.bin\",\n",
        "    binary=True\n",
        "    )"
      ],
      "metadata": {
        "id": "ASNnVdfzKRrb"
      },
      "execution_count": 32,
      "outputs": []
    },
    {
      "cell_type": "code",
      "source": [
        "# Convert keywords into embeddings\n",
        "keyword_embeddings = {keyword: model[keyword] for keyword in keywords if keyword in model}\n"
      ],
      "metadata": {
        "id": "VYSdbwgwNijL"
      },
      "execution_count": 45,
      "outputs": []
    },
    {
      "cell_type": "code",
      "source": [
        "# Assuming `model` is your loaded Word2Vec model and `keywords` contains your list of keywords\n",
        "similar_words_dict = {}\n",
        "\n",
        "for keyword in keywords:\n",
        "    # Check if keyword exists in the model\n",
        "    if keyword in model:\n",
        "        # Find the top 10 similar words for each keyword\n",
        "        similar_words = model.most_similar(keyword, topn=10)\n",
        "        # Extract only the words, not the similarity scores\n",
        "        similar_words_list = [word[0] for word in similar_words]\n",
        "        # Update the dictionary\n",
        "        similar_words_dict[keyword] = similar_words_list\n",
        "\n",
        "# Print the dictionary to view the results\n",
        "for key, values in similar_words_dict.items():\n",
        "    print(f\"{key}: {values}\")\n"
      ],
      "metadata": {
        "colab": {
          "base_uri": "https://localhost:8080/"
        },
        "id": "zn2MhYEVbCUo",
        "outputId": "25507094-4744-4a43-acc2-3415f3a2bfd8"
      },
      "execution_count": 50,
      "outputs": [
        {
          "output_type": "stream",
          "name": "stdout",
          "text": [
            "united: ['unite', 'uniting', 'unified', 'chanted_HRC_HRC', 'unity', 'disunited', 'unify', 'unifying', 'unites', 'resolute']\n",
            "access: ['unfettered_access', 'acess', 'acccess', 'accesss', 'accessing', 'acces', 'Access', 'accessto', 'accessible', 'accessibility']\n",
            "module: ['modules', 'Module', 'Modules', '###mb_PowerBook_G4', 'JTAG_port', 'image_contrib', 'databus', 'RS###_interface', 'RS###_port', 'PMBus_interface']\n",
            "states: ['States', 'countries', 'jurisdictions', 'regions', 'counties', 'nations', 'Canadian_providences', 'legislatures', 'sates', 'districts']\n",
            "insecurity: ['Vigilante_roadblocks', 'Insecurity', 'instability', 'hopelessness', 'lawlessness', 'Grinding_poverty', 'anxiety', 'insecure', 'alienation', 'powerlessness']\n",
            "finding: ['Finding', 'find', 'discovering', 'found', 'searching', 'finds', 'proving', 'locating', 'figuring', 'obtaining']\n",
            "due: ['owing', 'Due', 'dueto', 'attributed', 'Owing', 'because', 'necessitated', 'resulting', 'caused', 'exacerbated']\n",
            "nutrition: ['nutritional', 'Nutrition', 'Granberg_recounted_how', 'nutritionist', 'healthful_eating', 'nutritious', 'eat_nutritiously', 'Proper_nutrition', 'Nutritional', 'nutritious_diet']\n",
            "dietary: ['diet', 'Dietary', 'diets', 'nutritional', 'dietary_restrictions', 'dietary_intake', 'dietary_habits', 'eating_habits', 'nutrition', 'Mohr_byline']\n",
            "food: ['foods', 'Food', 'foodstuffs', 'meals', 'food_stuffs', 'nourishing_meals', 'foodstuff', 'staple_foods', 'nutritious', 'meal']\n",
            "regimen: ['regimens', 'exercise_regimen', 'workout_regimen', 'conditioning_regimen', 'fitness_regimen', 'dietary_regimen', 'offseason_workout_regimen', 'chemotherapy_regimen', 'weightlifting_regimen', 'diet']\n",
            "limited: ['restricted', 'limiting', 'minimal', 'diminished', 'severely_restricted', 'limted', 'constrained', 'virtually_non_existent', 'limitations', 'confined']\n",
            "supplies: ['supply', 'Supplies', 'GPI_manufactures', 'supples', 'Consumable_nursing', 'suplies', 'Shackleton_expedition_ran', 'actor_Julie_Kavner', 'cots_blankets_pillows', 'tents_hygiene_kits']\n",
            "survey: ['surveys', 'Survey', 'surveyed', 'survery', 'Surveys', 'poll', 'Ipsos_Reid_survey', 'study', 'YouGov_survey', 'polled']\n",
            "noncompliance: ['compliance', 'violations', 'noncompliant', 'complying', 'Willful_violations', 'comply', 'non_compliances', 'violation', 'Noncompliance', 'willful_violation']\n",
            "household: ['Household', 'households', 'houshold', 'Households', 'automatic_icemaker', 'Acxiom_PersonicX', 'balcony_collapseA_Sydney', 'householder', 'soap_laundry_detergent', 'cars_tangled_powerlines']\n",
            "security: ['Security', 'secuirty', 'secu_rity', 'secutiry', 'secuity', 'securty', 'tightened_Mosseini', 'andsecurity', 'Franked_amount', 'secruity']\n"
          ]
        }
      ]
    },
    {
      "cell_type": "code",
      "source": [
        "# Limit the display of floating point numbers\n",
        "np.set_printoptions(precision=4, suppress=True)\n",
        "\n",
        "# Print embeddings for each keyword\n",
        "for keyword, embedding in keyword_embeddings.items():\n",
        "    print(f\"Keyword: {keyword}\")\n",
        "    print(\"Embedding:\", embedding[:10], \"...\")  # Here we're only showing the first 10 dimensions, but you can adjust as needed.\n",
        "    print(\"-------------------------------------------------\")\n"
      ],
      "metadata": {
        "colab": {
          "base_uri": "https://localhost:8080/"
        },
        "id": "SZImI36PamZW",
        "outputId": "c927e1cd-1b7d-43a1-d2fe-05210621fc0c"
      },
      "execution_count": 48,
      "outputs": [
        {
          "output_type": "stream",
          "name": "stdout",
          "text": [
            "Keyword: united\n",
            "Embedding: [-0.0209  0.106  -0.0299  0.1582 -0.418  -0.063   0.0221 -0.2852  0.2207\n",
            " -0.0139] ...\n",
            "-------------------------------------------------\n",
            "Keyword: access\n",
            "Embedding: [-0.0874 -0.1865 -0.1514  0.0074  0.0767  0.1602  0.0044  0.0942  0.1709\n",
            " -0.1021] ...\n",
            "-------------------------------------------------\n",
            "Keyword: module\n",
            "Embedding: [-0.2275 -0.2393  0.019  -0.0052  0.0454  0.0684  0.0581  0.127   0.0415\n",
            " -0.1064] ...\n",
            "-------------------------------------------------\n",
            "Keyword: states\n",
            "Embedding: [ 0.1445 -0.104   0.0674  0.1836  0.0491  0.0315 -0.2393  0.0192 -0.1348\n",
            " -0.0454] ...\n",
            "-------------------------------------------------\n",
            "Keyword: insecurity\n",
            "Embedding: [ 0.2773  0.0645 -0.2324  0.1377 -0.1211  0.1885 -0.2061 -0.3203  0.0242\n",
            " -0.1465] ...\n",
            "-------------------------------------------------\n",
            "Keyword: finding\n",
            "Embedding: [-0.0161  0.0317 -0.2139  0.1328 -0.0664  0.0135  0.0137  0.0027  0.0854\n",
            "  0.0094] ...\n",
            "-------------------------------------------------\n",
            "Keyword: due\n",
            "Embedding: [ 0.0427  0.2949  0.0197  0.0309 -0.0967  0.0238  0.2656 -0.1299  0.1455\n",
            "  0.1914] ...\n",
            "-------------------------------------------------\n",
            "Keyword: nutrition\n",
            "Embedding: [-0.1211  0.0811  0.1377  0.0869  0.0126  0.0996  0.3457 -0.2178 -0.2578\n",
            " -0.3047] ...\n",
            "-------------------------------------------------\n",
            "Keyword: dietary\n",
            "Embedding: [-0.4004  0.1079  0.0364  0.0459 -0.1387 -0.1318  0.0723 -0.0918 -0.1699\n",
            "  0.0393] ...\n",
            "-------------------------------------------------\n",
            "Keyword: food\n",
            "Embedding: [-0.1816  0.165  -0.166   0.3574 -0.0923  0.2012 -0.0547 -0.2617 -0.1729\n",
            " -0.0806] ...\n",
            "-------------------------------------------------\n",
            "Keyword: regimen\n",
            "Embedding: [-0.0718  0.373   0.2168  0.0128  0.207   0.2578  0.0962 -0.1104 -0.5352\n",
            "  0.0493] ...\n",
            "-------------------------------------------------\n",
            "Keyword: limited\n",
            "Embedding: [ 0.0674 -0.0369 -0.2773  0.209  -0.0864  0.1748  0.0732 -0.21    0.2178\n",
            " -0.1011] ...\n",
            "-------------------------------------------------\n",
            "Keyword: supplies\n",
            "Embedding: [ 0.0308 -0.0845 -0.0591  0.0544 -0.0271  0.1504 -0.2598 -0.334   0.0009\n",
            " -0.0425] ...\n",
            "-------------------------------------------------\n",
            "Keyword: survey\n",
            "Embedding: [ 0.1152 -0.0344 -0.252  -0.0457  0.2656 -0.1494 -0.0693 -0.0981  0.2305\n",
            "  0.0417] ...\n",
            "-------------------------------------------------\n",
            "Keyword: noncompliance\n",
            "Embedding: [-0.2734 -0.165   0.2441  0.0444  0.1084 -0.0532 -0.0508 -0.0369  0.0918\n",
            "  0.2734] ...\n",
            "-------------------------------------------------\n",
            "Keyword: household\n",
            "Embedding: [ 0.2061  0.103  -0.4121  0.0074  0.0469  0.2471  0.0239  0.0105  0.1748\n",
            " -0.0554] ...\n",
            "-------------------------------------------------\n",
            "Keyword: security\n",
            "Embedding: [ 0.0189  0.1855  0.0439 -0.0703 -0.0413 -0.0352 -0.0825 -0.1035  0.0625\n",
            "  0.0493] ...\n",
            "-------------------------------------------------\n"
          ]
        }
      ]
    },
    {
      "cell_type": "code",
      "source": [
        "# Step 2: Metadata Parsing\n",
        "metadata = \"\"\"[\n",
        "    {\n",
        "        \"accessLevel\": \"public\",\n",
        "        \"landingPage\": \"https://healthdata.gov/d/229f-a34m\",\n",
        "        \"issued\": \"2023-02-22\",\n",
        "        \"@type\": \"dcat:Dataset\",\n",
        "        \"modified\": \"2023-02-22\",\n",
        "        \"contactPoint\": {\n",
        "            \"@type\": \"vcard:Contact\",\n",
        "            \"fn\": \"HHS Office of the Chief Data Officer\",\n",
        "            \"hasEmail\": \"mailto:no-reply@healthdata.gov\"\n",
        "        },\n",
        "        \"identifier\": \"https://healthdata.gov/api/views/229f-a34m\",\n",
        "        \"publisher\": {\n",
        "            \"@type\": \"org:Organization\",\n",
        "            \"name\": \"healthdata.gov\"\n",
        "        },\n",
        "        \"description\": \"\",\n",
        "        \"title\": \"Access to Care (2023)\"\n",
        "    },\n",
        "    {\n",
        "        \"accessLevel\": \"public\",\n",
        "        \"landingPage\": \"https://healthdata.gov/d/238m-ezg9\",\n",
        "        \"bureauCode\": [\"009:00\"],\n",
        "        \"issued\": \"2021-10-14\",\n",
        "        \"@type\": \"dcat:Dataset\",\n",
        "        \"modified\": \"2021-10-13\",\n",
        "        \"keyword\": [\"drug rebate program\"],\n",
        "        \"contactPoint\": {\n",
        "            \"@type\": \"vcard:Contact\",\n",
        "            \"fn\": \"Medicaid.gov\",\n",
        "            \"hasEmail\": \"mailto:Medicaid.gov@cms.hhs.gov\"\n",
        "        },\n",
        "        \"publisher\": {\n",
        "            \"@type\": \"org:Organization\",\n",
        "            \"name\": \"Centers for Medicare & Medicaid Services\"\n",
        "        },\n",
        "        \"identifier\": \"e28727b2-fe6b-46cb-8617-408de290200d\",\n",
        "        \"description\": \"The data below contains newly reported, active covered outpatient drugs which were reported by participating drug manufacturers since the last quarterly update of the Drug Products in the Medicaid Drug Rebate Program (MDRP) database.\",\n",
        "        \"title\": \"Product Data for Newly Reported Drugs in the Medicaid Drug Rebate Program 20210726 to 20210801\",\n",
        "        \"programCode\": [\"009:000\"],\n",
        "        \"distribution\": [{\n",
        "            \"@type\": \"dcat:Distribution\",\n",
        "            \"downloadURL\": \"https://data.medicaid.gov/sites/default/files/uploaded_resources/mdrp-newly-rpt-drugs-aug-20210726-to-20210801.csv\",\n",
        "            \"mediaType\": \"text/csv\"\n",
        "        }],\n",
        "        \"license\": \"http://www.usa.gov/publicdomain/label/1.0/\",\n",
        "        \"accrualPeriodicity\": \"R/P10Y\"\n",
        "    }\n",
        "]\"\"\"\n",
        "\n",
        "metadata_data = json.loads(metadata)"
      ],
      "metadata": {
        "id": "TSpdhoESPaWD"
      },
      "execution_count": 36,
      "outputs": []
    },
    {
      "cell_type": "code",
      "source": [
        "# Convert metadata texts into embeddings\n",
        "def convert_to_embeddings(text, model):\n",
        "    tokens = word_tokenize(text)\n",
        "    embeddings = [model[token] for token in tokens if token in model]\n",
        "    return embeddings\n",
        "\n",
        "metadata_embeddings = []\n",
        "for entry in metadata_data:\n",
        "    text = entry.get(\"description\", \"\") + \" \" + entry.get(\"title\", \"\")\n",
        "    embeddings = convert_to_embeddings(text, model)\n",
        "    metadata_embeddings.append((entry, embeddings))"
      ],
      "metadata": {
        "id": "B_gqhuaxPcpn"
      },
      "execution_count": 38,
      "outputs": []
    },
    {
      "cell_type": "code",
      "source": [
        "# Step 3: Matching Algorithm\n",
        "\n",
        "def match_using_embeddings(metadata_entry, keyword_embeddings):\n",
        "    for keyword, key_embedding in keyword_embeddings.items():\n",
        "        for meta_embedding in metadata_entry[1]:\n",
        "            similarity = 1 - cosine(key_embedding, meta_embedding)\n",
        "            if similarity > 0.5:  # Threshold for cosine similarity\n",
        "                return True, keyword  # Return matched keyword\n",
        "    return False, None  # If no match found\n",
        "\n",
        "# Checking each metadata entry\n",
        "for entry in metadata_embeddings:\n",
        "    is_match, matched_keyword = match_using_embeddings(entry, keyword_embeddings)\n",
        "    if is_match:\n",
        "        print(f\"Found a potential match in: {entry[0]['title']} for keyword: {matched_keyword}\")\n"
      ],
      "metadata": {
        "colab": {
          "base_uri": "https://localhost:8080/"
        },
        "id": "VMgLx7zuPhte",
        "outputId": "3b96f8a6-34e3-4b89-f76d-b4e02850c0f2"
      },
      "execution_count": 44,
      "outputs": [
        {
          "output_type": "stream",
          "name": "stdout",
          "text": [
            "Found a potential match in: Access to Care (2023) for keyword: access\n"
          ]
        }
      ]
    },
    {
      "cell_type": "code",
      "source": [],
      "metadata": {
        "id": "f1DXzs3aaZI2"
      },
      "execution_count": null,
      "outputs": []
    }
  ]
}